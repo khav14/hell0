{
 "cells": [
  {
   "cell_type": "markdown",
   "id": "0a436fa0-0207-47f7-a6fc-a7b66414ab22",
   "metadata": {
    "jp-MarkdownHeadingCollapsed": true
   },
   "source": [
    "# First, let's import the necessary libraries\n",
    "import matplotlib.pyplot as plt\n",
    "import numpy as np\n",
    "\n",
    "# Set up the figure and axis\n",
    "fig, ax = plt.subplots(figsize=(8, 6))\n",
    "\n",
    "# Create the heart shape\n",
    "t = np.linspace(0, 2 * np.pi, 1000)\n",
    "x = 16 * np.sin(t)**3\n",
    "y = 13 * np.cos(t) - 5 * np.cos(2 * t) - 2 * np.cos(3 * t) - np.cos(4 * t)\n",
    "\n",
    "# Plot the heart\n",
    "ax.plot(x, y, color='red')\n",
    "\n",
    "# Add the love message\n",
    "ax.text(0, 0, 'I Love You Vimal!', fontsize=24, color='red', fontweight='bold', \n",
    "        ha='center', va='center', bbox=dict(facecolor='white', alpha=0.8))\n",
    "\n",
    "# Remove the axes\n",
    "ax.set_xticks([])\n",
    "ax.set_yticks([])\n",
    "ax.spines['top'].set_visible(False)\n",
    "ax.spines['right'].set_visible(False)\n",
    "ax.spines['bottom'].set_visible(False)\n",
    "ax.spines['left'].set_visible(False)\n",
    "\n",
    "# Set the background color\n",
    "fig.patch.set_facecolor('lightblue')\n",
    "\n",
    "# Show the plot\n",
    "plt.show()\n"
   ]
  },
  {
   "cell_type": "code",
   "execution_count": null,
   "id": "fcbeeed7-586c-45c4-99fe-b55fe5f5e968",
   "metadata": {},
   "outputs": [],
   "source": []
  },
  {
   "cell_type": "code",
   "execution_count": null,
   "id": "eefbc418-7fd7-4a3e-99bb-9bf51231688f",
   "metadata": {},
   "outputs": [],
   "source": []
  }
 ],
 "metadata": {
  "kernelspec": {
   "display_name": "Python 3 (ipykernel)",
   "language": "python",
   "name": "python3"
  },
  "language_info": {
   "codemirror_mode": {
    "name": "ipython",
    "version": 3
   },
   "file_extension": ".py",
   "mimetype": "text/x-python",
   "name": "python",
   "nbconvert_exporter": "python",
   "pygments_lexer": "ipython3",
   "version": "3.11.7"
  }
 },
 "nbformat": 4,
 "nbformat_minor": 5
}
